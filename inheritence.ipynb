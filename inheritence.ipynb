{
 "cells": [
  {
   "cell_type": "code",
   "execution_count": 12,
   "metadata": {},
   "outputs": [],
   "source": [
    "class Bird:\n",
    "    def __init__(self):\n",
    "        print(\"bird is ready\")\n",
    "    def whoisthis(self):\n",
    "        print(\"bird\")\n",
    "    def run(self):\n",
    "        print(\"run faster\")\n",
    "    def swim(self):\n",
    "        print(\"swim faster\")"
   ]
  },
  {
   "cell_type": "code",
   "execution_count": 15,
   "metadata": {},
   "outputs": [
    {
     "name": "stdout",
     "output_type": "stream",
     "text": [
      "penguin is ready\n",
      "penguin\n",
      "run faster\n",
      "swim faster\n"
     ]
    }
   ],
   "source": [
    "class Penguin:\n",
    "    def __init__(self):\n",
    "        #call super function\n",
    "        super().__init__()\n",
    "        print(\"penguin is ready\")\n",
    "    def whoisthis(self):\n",
    "        print(\"penguin\")\n",
    "    def run(self):\n",
    "        print(\"run faster\")\n",
    "    def swim(self):\n",
    "        print(\"swim faster\")\n",
    "peggy=Penguin()\n",
    "peggy.whoisthis()\n",
    "peggy.run()\n",
    "peggy.swim()"
   ]
  },
  {
   "cell_type": "code",
   "execution_count": null,
   "metadata": {},
   "outputs": [],
   "source": []
  },
  {
   "cell_type": "code",
   "execution_count": null,
   "metadata": {},
   "outputs": [],
   "source": []
  }
 ],
 "metadata": {
  "kernelspec": {
   "display_name": "Python 3",
   "language": "python",
   "name": "python3"
  },
  "language_info": {
   "codemirror_mode": {
    "name": "ipython",
    "version": 3
   },
   "file_extension": ".py",
   "mimetype": "text/x-python",
   "name": "python",
   "nbconvert_exporter": "python",
   "pygments_lexer": "ipython3",
   "version": "3.7.4"
  }
 },
 "nbformat": 4,
 "nbformat_minor": 2
}
