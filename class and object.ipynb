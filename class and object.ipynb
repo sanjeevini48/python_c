{
 "cells": [
  {
   "cell_type": "code",
   "execution_count": 6,
   "metadata": {},
   "outputs": [],
   "source": [
    "class Parrot:\n",
    "    species='Bird'\n",
    "    def __init__(self,name,age):\n",
    "        self.name=name\n",
    "        self.age=age\n",
    "blu=Parrot(\"Blu\",10)\n",
    "woo=Parrot(\"woo\",20)"
   ]
  },
  {
   "cell_type": "code",
   "execution_count": 9,
   "metadata": {},
   "outputs": [
    {
     "name": "stdout",
     "output_type": "stream",
     "text": [
      "Blu is aBird\n",
      "woo is aBird\n"
     ]
    }
   ],
   "source": [
    "print(\"Blu is a {}\".format(blu.__class__.species))\n",
    "print(\"woo is a {}\".format(woo.__class__.species))"
   ]
  },
  {
   "cell_type": "code",
   "execution_count": 12,
   "metadata": {},
   "outputs": [
    {
     "name": "stdout",
     "output_type": "stream",
     "text": [
      "Blu is 10 years old\n"
     ]
    }
   ],
   "source": [
    "print(\"{} is {} years old\".format(blu.name,blu.age))"
   ]
  },
  {
   "cell_type": "code",
   "execution_count": 11,
   "metadata": {},
   "outputs": [
    {
     "name": "stdout",
     "output_type": "stream",
     "text": [
      "woo is 20 years old\n"
     ]
    }
   ],
   "source": [
    "print(\"{} is {} years old\".format(woo.name,woo.age))"
   ]
  },
  {
   "cell_type": "code",
   "execution_count": 31,
   "metadata": {},
   "outputs": [
    {
     "name": "stdout",
     "output_type": "stream",
     "text": [
      "Cow age is 30 \n",
      "Cat age is 5 \n"
     ]
    }
   ],
   "source": [
    "class Animal:\n",
    "    def __init__(self,name,age):\n",
    "        self.name=name\n",
    "        self.age=age\n",
    "a1=Animal(\"Cow\",30)\n",
    "a2=Animal(\"Cat\",5)\n",
    "print(\"{} age is {} \".format(a1.name,a1.age))\n",
    "print(\"{} age is {} \".format(a2.name,a2.age))\n",
    "\n",
    "\n"
   ]
  },
  {
   "cell_type": "code",
   "execution_count": 33,
   "metadata": {},
   "outputs": [],
   "source": [
    "class Person:\n",
    "    def __init__(self,name,age):\n",
    "        self.name=name\n",
    "        self.age=age\n",
    "p1=Person(\"raj\",25)\n",
    "p2=Person(\"rani\",30)"
   ]
  },
  {
   "cell_type": "code",
   "execution_count": 34,
   "metadata": {},
   "outputs": [
    {
     "name": "stdout",
     "output_type": "stream",
     "text": [
      "raj age is 25\n"
     ]
    }
   ],
   "source": [
    "print(\"{} age is {}\".format(p1.name,p1.age))"
   ]
  },
  {
   "cell_type": "code",
   "execution_count": 36,
   "metadata": {},
   "outputs": [
    {
     "name": "stdout",
     "output_type": "stream",
     "text": [
      "raniage is 30\n"
     ]
    }
   ],
   "source": [
    "print(\"{}age is {}\".format(p2.name,p2.age))"
   ]
  },
  {
   "cell_type": "code",
   "execution_count": 37,
   "metadata": {},
   "outputs": [
    {
     "name": "stdout",
     "output_type": "stream",
     "text": [
      "Tiger is a Animal\n",
      "Cow is a Animal\n"
     ]
    }
   ],
   "source": [
    "class Demo:\n",
    "    species = \"Animal\"\n",
    "    def __init__(self,name,age):\n",
    "        self.name = name\n",
    "        self.age = age\n",
    "d1=Demo(\"Tiger\",10)\n",
    "d2=Demo(\"Cow\",15)\n",
    "print(\"Tiger is a {}\".format(d1.__class__.species))\n",
    "print(\"Cow is a {}\".format(d2.__class__.species))"
   ]
  },
  {
   "cell_type": "code",
   "execution_count": 38,
   "metadata": {},
   "outputs": [
    {
     "name": "stdout",
     "output_type": "stream",
     "text": [
      "Tiger is 10 years old\n",
      "Cow is 15 years old\n"
     ]
    }
   ],
   "source": [
    "print(\"{} is {} years old\".format(d1.name,d1.age))\n",
    "print(\"{} is {} years old\".format(d2.name,d2.age))"
   ]
  },
  {
   "cell_type": "code",
   "execution_count": 46,
   "metadata": {},
   "outputs": [
    {
     "name": "stdout",
     "output_type": "stream",
     "text": [
      "Table is Furniture\n",
      "Chair isFurniture\n"
     ]
    }
   ],
   "source": [
    "class Demo1:\n",
    "    thing ='Furniture'\n",
    "    def __init__(self,name,price):\n",
    "        self.name=name\n",
    "        self.price=price\n",
    "s1=Demo1(\"Table\",5000)\n",
    "s2=Demo1(\"Chair\",8000)\n",
    "print(\"Table is {}\".format(s1.__class__.thing))\n",
    "print(\"Chair is {}\".format(s2.__class__.thing))"
   ]
  },
  {
   "cell_type": "code",
   "execution_count": 47,
   "metadata": {},
   "outputs": [
    {
     "name": "stdout",
     "output_type": "stream",
     "text": [
      "Table price is5000\n",
      "Chair price is 8000\n"
     ]
    }
   ],
   "source": [
    "print(\"{} price is {}\".format(s1.name,s1.price))\n",
    "print(\"{} price is {}\".format(s2.name,s2.price))"
   ]
  },
  {
   "cell_type": "code",
   "execution_count": 49,
   "metadata": {},
   "outputs": [
    {
     "data": {
      "text/plain": [
       "__main__.Sample"
      ]
     },
     "execution_count": 49,
     "metadata": {},
     "output_type": "execute_result"
    }
   ],
   "source": [
    "class Sample:\n",
    "    pass\n",
    "s=Sample()\n",
    "type(s)"
   ]
  },
  {
   "cell_type": "code",
   "execution_count": 50,
   "metadata": {},
   "outputs": [
    {
     "name": "stdout",
     "output_type": "stream",
     "text": [
      "<class 'tuple'>\n"
     ]
    }
   ],
   "source": [
    "print(type(()))"
   ]
  },
  {
   "cell_type": "code",
   "execution_count": 51,
   "metadata": {},
   "outputs": [
    {
     "name": "stdout",
     "output_type": "stream",
     "text": [
      "<class 'str'>\n"
     ]
    }
   ],
   "source": [
    "print(type('1'))"
   ]
  },
  {
   "cell_type": "code",
   "execution_count": 52,
   "metadata": {},
   "outputs": [
    {
     "name": "stdout",
     "output_type": "stream",
     "text": [
      "<class 'int'>\n"
     ]
    }
   ],
   "source": [
    "print(type(1))"
   ]
  },
  {
   "cell_type": "code",
   "execution_count": 53,
   "metadata": {},
   "outputs": [
    {
     "name": "stdout",
     "output_type": "stream",
     "text": [
      "<class 'dict'>\n"
     ]
    }
   ],
   "source": [
    "print(type({}))"
   ]
  },
  {
   "cell_type": "code",
   "execution_count": 62,
   "metadata": {},
   "outputs": [
    {
     "data": {
      "text/plain": [
       "'lab'"
      ]
     },
     "execution_count": 62,
     "metadata": {},
     "output_type": "execute_result"
    }
   ],
   "source": [
    "class Dog:\n",
    "    def __init__(self,breed):\n",
    "        self.breed=breed\n",
    "d1=Dog('huskie')\n",
    "d2=Dog('lab')\n",
    "d1.breed\n",
    "d2.breed"
   ]
  },
  {
   "cell_type": "code",
   "execution_count": 75,
   "metadata": {},
   "outputs": [
    {
     "name": "stdout",
     "output_type": "stream",
     "text": [
      " blu sings happy\n",
      "blu is now dancing\n",
      "woo is swimming\n"
     ]
    }
   ],
   "source": [
    "class Bird:\n",
    "    def __init__(self,name,age):\n",
    "        self.name=name\n",
    "        self.age=age\n",
    "#instance method\n",
    "    def sing(self,song):\n",
    "        return \" {} sings {}\".format(self.name,song)\n",
    "    def dance(self):\n",
    "        return \"{} is now dancing\".format(self.name)\n",
    "    def swim(self):\n",
    "        return \"{} is swimming\".format(self.name)\n",
    "#instance object\n",
    "b1=Bird(\"blu\",10)\n",
    "b2=Bird(\"woo\",15)\n",
    "#call ur instace methods\n",
    "print(b1.sing('happy'))\n",
    "print(b1.dance())\n",
    "print(b2.swim( ))\n",
    "        "
   ]
  },
  {
   "cell_type": "code",
   "execution_count": 6,
   "metadata": {},
   "outputs": [
    {
     "name": "stdout",
     "output_type": "stream",
     "text": [
      "tiger is live  in  forest\n"
     ]
    }
   ],
   "source": [
    "class Animal:\n",
    "    def __init__(self,name,age):\n",
    "        self.name=name\n",
    "        self.age=age\n",
    "    def live(self,forest):\n",
    "        return \"{} is live  in  {}\".format(self.name,forest)\n",
    "a1=Animal('tiger',10)\n",
    "print(a1.live('forest'))"
   ]
  },
  {
   "cell_type": "code",
   "execution_count": 19,
   "metadata": {},
   "outputs": [],
   "source": [
    "class Circle:\n",
    "    pi=3.14\n",
    "    def __init__(self,radius=1):\n",
    "        self.radius=radius\n",
    "        self.area=Circle.pi * radius *radius\n",
    "c1=Circle(3)        "
   ]
  },
  {
   "cell_type": "code",
   "execution_count": 17,
   "metadata": {},
   "outputs": [
    {
     "name": "stdout",
     "output_type": "stream",
     "text": [
      "radius= 3\n"
     ]
    }
   ],
   "source": [
    "print('radius=',c1.radius)"
   ]
  },
  {
   "cell_type": "code",
   "execution_count": 15,
   "metadata": {},
   "outputs": [
    {
     "name": "stdout",
     "output_type": "stream",
     "text": [
      "area= 28.259999999999998\n"
     ]
    }
   ],
   "source": [
    "print('area=',c1.area)"
   ]
  },
  {
   "cell_type": "code",
   "execution_count": 33,
   "metadata": {},
   "outputs": [],
   "source": [
    "class Circle:\n",
    "    pi=3.14\n",
    "    def __init__(self,radius=1):\n",
    "        self.radius=radius\n",
    "        self.area=Circle.pi * radius * radius\n",
    "        self.circumference=2*Circle.pi * self.radius\n",
    "    def findcircumference(self,radius):\n",
    "        self.radius=radius\n",
    "        self.circumference=2*Circle.pi * self.radius\n",
    "c2=Circle(4)"
   ]
  },
  {
   "cell_type": "code",
   "execution_count": 34,
   "metadata": {},
   "outputs": [
    {
     "name": "stdout",
     "output_type": "stream",
     "text": [
      "radius= 4\n"
     ]
    }
   ],
   "source": [
    "print('radius=',c2.radius)"
   ]
  },
  {
   "cell_type": "code",
   "execution_count": 35,
   "metadata": {},
   "outputs": [
    {
     "name": "stdout",
     "output_type": "stream",
     "text": [
      "area= 50.24\n"
     ]
    }
   ],
   "source": [
    "print('area=',c2.area)"
   ]
  },
  {
   "cell_type": "code",
   "execution_count": 36,
   "metadata": {},
   "outputs": [
    {
     "name": "stdout",
     "output_type": "stream",
     "text": [
      "circumference= 25.12\n"
     ]
    }
   ],
   "source": [
    "print('circumference=',c2.circumference)"
   ]
  },
  {
   "cell_type": "code",
   "execution_count": null,
   "metadata": {},
   "outputs": [],
   "source": []
  }
 ],
 "metadata": {
  "kernelspec": {
   "display_name": "Python 3",
   "language": "python",
   "name": "python3"
  },
  "language_info": {
   "codemirror_mode": {
    "name": "ipython",
    "version": 3
   },
   "file_extension": ".py",
   "mimetype": "text/x-python",
   "name": "python",
   "nbconvert_exporter": "python",
   "pygments_lexer": "ipython3",
   "version": "3.7.4"
  }
 },
 "nbformat": 4,
 "nbformat_minor": 2
}
